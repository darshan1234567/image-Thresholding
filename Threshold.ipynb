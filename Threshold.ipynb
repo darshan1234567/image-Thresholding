{
 "cells": [
  {
   "cell_type": "code",
   "execution_count": 1,
   "id": "93fc82c2",
   "metadata": {},
   "outputs": [],
   "source": [
    "import cv2"
   ]
  },
  {
   "cell_type": "code",
   "execution_count": 11,
   "id": "009e3c44",
   "metadata": {},
   "outputs": [],
   "source": [
    "img=cv2.imread(\"C:/Users/aedpu/Documents/Task images/33.jpeg\")\n",
    "img1=cv2.resize(img,(720,480))"
   ]
  },
  {
   "cell_type": "code",
   "execution_count": null,
   "id": "2e945297",
   "metadata": {},
   "outputs": [],
   "source": [
    "cv2.imshow('orgin',img)\n",
    "cv2.imshow('resize',img1)\n",
    "cv2.waitKey()\n",
    "cv2.destroyAllWindows()"
   ]
  },
  {
   "cell_type": "code",
   "execution_count": null,
   "id": "76acc04a",
   "metadata": {},
   "outputs": [],
   "source": [
    "imgc=cv2.cvtColor(img1,cv2.COLOR_BGR2GRAY)"
   ]
  },
  {
   "cell_type": "code",
   "execution_count": null,
   "id": "3b559012",
   "metadata": {},
   "outputs": [],
   "source": [
    "ret,thresh6=cv2.threshold(imgc,15,150,cv2.THRESH_BINARY)\n",
    "ret,thresh7=cv2.threshold(imgc,15,255,cv2.THRESH_BINARY_INV)\n",
    "ret,thresh8=cv2.threshold(imgc,15,255,cv2.THRESH_TRUNC)\n",
    "ret,thresh9=cv2.threshold(imgc,15,255,cv2.THRESH_TOZERO)\n",
    "ret,thresh10=cv2.threshold(imgc,15,255,cv2.THRESH_TOZERO_INV)"
   ]
  },
  {
   "cell_type": "code",
   "execution_count": null,
   "id": "db4f97d7",
   "metadata": {},
   "outputs": [],
   "source": [
    "cv2.imshow('orgin',img1)\n",
    "cv2.imshow('binary threshold',thresh6)\n",
    "cv2.imshow('binary inverted threshold',thresh7)\n",
    "cv2.imshow('truncat threshold',thresh8)\n",
    "cv2.imshow('to zero threshold',thresh9)\n",
    "cv2.imshow('to zero inverted threshold',thresh10)\n",
    "cv2.waitKey()\n",
    "cv2.destroyAllWindows()"
   ]
  },
  {
   "cell_type": "code",
   "execution_count": null,
   "id": "7ea1efd5",
   "metadata": {},
   "outputs": [],
   "source": [
    "ret,th1=cv2.threshold(imgc,153,255,cv2.THRESH_BINARY)"
   ]
  },
  {
   "cell_type": "code",
   "execution_count": null,
   "id": "3dc00e71",
   "metadata": {},
   "outputs": [],
   "source": [
    "ath1=cv2.adaptiveThreshold(imgc,255,cv2.ADAPTIVE_THRESH_MEAN_C,cv2.THRESH_BINARY,11,2)\n",
    "ath2=cv2.adaptiveThreshold(imgc,255,cv2.ADAPTIVE_THRESH_GAUSSIAN_C,cv2.THRESH_BINARY,11,2)"
   ]
  },
  {
   "cell_type": "code",
   "execution_count": 1,
   "id": "c49a8129",
   "metadata": {},
   "outputs": [
    {
     "ename": "NameError",
     "evalue": "name 'cv2' is not defined",
     "output_type": "error",
     "traceback": [
      "\u001b[1;31m---------------------------------------------------------------------------\u001b[0m",
      "\u001b[1;31mNameError\u001b[0m                                 Traceback (most recent call last)",
      "Cell \u001b[1;32mIn[1], line 1\u001b[0m\n\u001b[1;32m----> 1\u001b[0m \u001b[43mcv2\u001b[49m\u001b[38;5;241m.\u001b[39mimshow(\u001b[38;5;124m'\u001b[39m\u001b[38;5;124morgin\u001b[39m\u001b[38;5;124m'\u001b[39m,img)\n\u001b[0;32m      2\u001b[0m cv2\u001b[38;5;241m.\u001b[39mimshow(\u001b[38;5;124m'\u001b[39m\u001b[38;5;124mglobal\u001b[39m\u001b[38;5;124m'\u001b[39m,th1)\n\u001b[0;32m      3\u001b[0m cv2\u001b[38;5;241m.\u001b[39mimshow(\u001b[38;5;124m'\u001b[39m\u001b[38;5;124math1\u001b[39m\u001b[38;5;124m'\u001b[39m,ath1)\n",
      "\u001b[1;31mNameError\u001b[0m: name 'cv2' is not defined"
     ]
    }
   ],
   "source": [
    "cv2.imshow('orgin',img)\n",
    "cv2.imshow('global',th1)\n",
    "cv2.imshow('ath1',ath1)\n",
    "cv2.imshow('ath2',ath2)\n",
    "cv2.waitKey()\n",
    "cv2.destroyAllWindows()"
   ]
  },
  {
   "cell_type": "code",
   "execution_count": null,
   "id": "c90131a7",
   "metadata": {},
   "outputs": [],
   "source": []
  },
  {
   "cell_type": "code",
   "execution_count": null,
   "id": "2bf1a52e",
   "metadata": {},
   "outputs": [],
   "source": []
  }
 ],
 "metadata": {
  "kernelspec": {
   "display_name": "Python 3 (ipykernel)",
   "language": "python",
   "name": "python3"
  },
  "language_info": {
   "codemirror_mode": {
    "name": "ipython",
    "version": 3
   },
   "file_extension": ".py",
   "mimetype": "text/x-python",
   "name": "python",
   "nbconvert_exporter": "python",
   "pygments_lexer": "ipython3",
   "version": "3.9.17"
  }
 },
 "nbformat": 4,
 "nbformat_minor": 5
}
